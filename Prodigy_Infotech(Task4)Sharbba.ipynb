{
 "cells": [
  {
   "cell_type": "code",
   "execution_count": null,
   "id": "ccee2f44-ea46-4710-83e2-4d38c9bc4e5a",
   "metadata": {},
   "outputs": [],
   "source": [
    "#Task4"
   ]
  },
  {
   "cell_type": "code",
   "execution_count": null,
   "id": "18a7bedc-2545-400a-99f2-0e9f5df8726b",
   "metadata": {},
   "outputs": [],
   "source": [
    "import numpy as np\n",
    "import pandas as pd\n",
    "import matplotlib.pyplot as plt\n",
    "import seaborn as sns\n",
    "from wordcloud import WordCloud"
   ]
  },
  {
   "cell_type": "code",
   "execution_count": null,
   "id": "adfb8696-8ec4-4b34-a9d1-6023bd837ae4",
   "metadata": {},
   "outputs": [],
   "source": [
    "cols=['ID', 'Topic', 'Sentiment', 'Text']\n",
    "train = pd.read_csv(\"twitter_training.csv\",names=cols)"
   ]
  },
  {
   "cell_type": "code",
   "execution_count": null,
   "id": "16eb4c7c-e6b7-4f3f-8f15-539cff7ade9e",
   "metadata": {},
   "outputs": [],
   "source": [
    "train.head()"
   ]
  },
  {
   "cell_type": "code",
   "execution_count": null,
   "id": "c850c38f-28ff-476a-9c54-60cae4064271",
   "metadata": {},
   "outputs": [],
   "source": [
    "train.info()"
   ]
  },
  {
   "cell_type": "code",
   "execution_count": null,
   "id": "e9c2d5f2-eb28-423e-abd9-5c4ed6d5fa03",
   "metadata": {},
   "outputs": [],
   "source": [
    "train.describe(include=object)"
   ]
  },
  {
   "cell_type": "code",
   "execution_count": null,
   "id": "082735e5-5cd7-4152-a154-8e3ab408cc44",
   "metadata": {},
   "outputs": [],
   "source": [
    "train['Sentiment'].unique()"
   ]
  },
  {
   "cell_type": "code",
   "execution_count": null,
   "id": "fcc4c1c2-8c8e-45c8-be69-a2d4855e9687",
   "metadata": {},
   "outputs": [],
   "source": [
    "train.isnull().sum()"
   ]
  },
  {
   "cell_type": "code",
   "execution_count": null,
   "id": "f2acfb57-1050-4704-a4d1-ebd9923091f6",
   "metadata": {},
   "outputs": [],
   "source": [
    "train.dropna(inplace=True)"
   ]
  },
  {
   "cell_type": "code",
   "execution_count": null,
   "id": "95444c2f-46f8-4500-9600-22cc13287789",
   "metadata": {},
   "outputs": [],
   "source": [
    "train.isnull().sum()"
   ]
  },
  {
   "cell_type": "code",
   "execution_count": null,
   "id": "6b39abef-6fd4-4d90-9e04-8efb40599d27",
   "metadata": {},
   "outputs": [],
   "source": [
    "train.duplicated().sum()"
   ]
  },
  {
   "cell_type": "code",
   "execution_count": null,
   "id": "90057d27-1a9c-4a1f-b32d-e7983e576e57",
   "metadata": {},
   "outputs": [],
   "source": [
    "train.drop_duplicates(inplace=True)"
   ]
  },
  {
   "cell_type": "code",
   "execution_count": null,
   "id": "cb2f2d51-a95e-4803-afb5-aa1e1404a13f",
   "metadata": {},
   "outputs": [],
   "source": [
    "train.duplicated().sum()"
   ]
  },
  {
   "cell_type": "code",
   "execution_count": null,
   "id": "67542445-6808-4ee2-ac3a-5c6d789c3ac5",
   "metadata": {},
   "outputs": [],
   "source": [
    "plt.figure(figsize=(8,10))\n",
    "train['Topic'].value_counts().plot(kind='barh',color='y')\n",
    "plt.xlabel(\"Count\")\n",
    "plt.show()"
   ]
  },
  {
   "cell_type": "code",
   "execution_count": null,
   "id": "d9e5ad5e-1e14-4b5b-a52d-6b8ff7bcbfd0",
   "metadata": {},
   "outputs": [],
   "source": [
    "sns.countplot(x = 'Sentiment',data=train)\n",
    "plt.show()"
   ]
  },
  {
   "cell_type": "code",
   "execution_count": null,
   "id": "d87793d2-56f6-43e1-88e5-aea49cd5d173",
   "metadata": {},
   "outputs": [],
   "source": [
    "plt.figure(figsize=(20,12))\n",
    "sns.countplot(x='Topic',data=train,palette='viridis',hue='Sentiment')\n",
    "plt.xticks(rotation=90)\n",
    "plt.show()"
   ]
  }
 ],
 "metadata": {
  "kernelspec": {
   "display_name": "Python 3 (ipykernel)",
   "language": "python",
   "name": "python3"
  },
  "language_info": {
   "codemirror_mode": {
    "name": "ipython",
    "version": 3
   },
   "file_extension": ".py",
   "mimetype": "text/x-python",
   "name": "python",
   "nbconvert_exporter": "python",
   "pygments_lexer": "ipython3",
   "version": "3.12.5"
  }
 },
 "nbformat": 4,
 "nbformat_minor": 5
}
